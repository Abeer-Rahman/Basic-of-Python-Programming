{
  "nbformat": 4,
  "nbformat_minor": 0,
  "metadata": {
    "colab": {
      "provenance": [],
      "include_colab_link": true
    },
    "kernelspec": {
      "name": "python3",
      "display_name": "Python 3"
    },
    "language_info": {
      "name": "python"
    }
  },
  "cells": [
    {
      "cell_type": "markdown",
      "metadata": {
        "id": "view-in-github",
        "colab_type": "text"
      },
      "source": [
        "<a href=\"https://colab.research.google.com/github/Abeer-Rahman/Basic-of-Python-Programming/blob/main/Copy_of_session_1_tasks.ipynb\" target=\"_parent\"><img src=\"https://colab.research.google.com/assets/colab-badge.svg\" alt=\"Open In Colab\"/></a>"
      ]
    },
    {
      "cell_type": "markdown",
      "source": [
        "# Task : Session 1\n",
        "Solve these questions own your own and try to test yourself what you have learned in the session.\n",
        "\n",
        "Happy Learning!"
      ],
      "metadata": {
        "id": "A05OG15VqOPF"
      }
    },
    {
      "cell_type": "markdown",
      "source": [
        "### Q1 :- Print the given strings as per stated format.\n",
        "\n",
        "**Given strings**:\n",
        "```\n",
        "\"Data\" \"Science\" \"Mentorship\" \"Program\"\n",
        "\"By\" \"CampusX\"\n",
        "```\n",
        "**Output**:\n",
        "```\n",
        "Data-Science-Mentorship-Program-started-By-CampusX\n",
        "```\n",
        "\n",
        "Concept- [Seperator and End]"
      ],
      "metadata": {
        "id": "2doIXf8bqe9_"
      }
    },
    {
      "cell_type": "code",
      "source": [
        "print(\"Data\",\"Science\",\"Mentorship\",\"Program\",\"started\",sep='-',end='-')\n",
        "print(\"By\",\"CampusX\",sep='-')"
      ],
      "metadata": {
        "id": "-em6d3KErDtp",
        "colab": {
          "base_uri": "https://localhost:8080/"
        },
        "outputId": "b90e0246-dd5a-4c43-b42c-12c89c088ae9"
      },
      "execution_count": null,
      "outputs": [
        {
          "output_type": "stream",
          "name": "stdout",
          "text": [
            "Data-Science-Mentorship-Program-started-By-CampusX\n"
          ]
        }
      ]
    },
    {
      "cell_type": "markdown",
      "source": [
        "### Q2:- Write a program that will convert celsius value to fahrenheit."
      ],
      "metadata": {
        "id": "1KUpN7ZTrC3_"
      }
    },
    {
      "cell_type": "code",
      "source": [
        "cel=float(input('Insert the temperature in Celsius: '))\n",
        "fahren=(9/5)*cel+32\n",
        "print ('Temperature in Fahrenheit is', fahren)"
      ],
      "metadata": {
        "id": "yxKYhYQiqWfj",
        "colab": {
          "base_uri": "https://localhost:8080/"
        },
        "outputId": "78eece0e-e469-4728-ba5a-9571b3ed7674"
      },
      "execution_count": null,
      "outputs": [
        {
          "output_type": "stream",
          "name": "stdout",
          "text": [
            "Insert the temperature in Celsius: 100\n",
            "Temperature in Fahrenheit is 212.0\n"
          ]
        }
      ]
    },
    {
      "cell_type": "markdown",
      "source": [
        "### Q3:- Take 2 numbers as input from the user.Write a program to swap the numbers without using any special python syntax."
      ],
      "metadata": {
        "id": "RLrOBBJurLB2"
      }
    },
    {
      "cell_type": "code",
      "source": [
        "from re import X\n",
        "# Write your code here\n",
        "x=input('Insert the value of x: ')\n",
        "y=input('insert the value of y: ')\n",
        "tag=x\n",
        "x=y\n",
        "y=tag\n",
        "print(f'swaped values of x and y are {x} and {y}')"
      ],
      "metadata": {
        "id": "yPn7if0TrJ4F",
        "colab": {
          "base_uri": "https://localhost:8080/"
        },
        "outputId": "9fdbce04-0db4-4c50-857c-1471bec303e1"
      },
      "execution_count": null,
      "outputs": [
        {
          "output_type": "stream",
          "name": "stdout",
          "text": [
            "Insert the value of x: 3\n",
            "insert the value of y: 5\n",
            "swaped values of x and y are 5 and 3\n"
          ]
        }
      ]
    },
    {
      "cell_type": "markdown",
      "source": [
        "### Q4:- Write a program to find the euclidean distance between two coordinates.Take both the coordinates from the user as input."
      ],
      "metadata": {
        "id": "waLCP1bjr7ML"
      }
    },
    {
      "cell_type": "code",
      "source": [
        "# Write your code here\n",
        "import math\n",
        "x1=float(input(\"Give the x1 coordinate: \"))\n",
        "x2=float(input(\"Give the x2 coordinate: \"))\n",
        "y1=float(input(\"Give the y1 coordinate: \"))\n",
        "y2=float(input(\"Give the y2 coordinate: \"))\n",
        "distance=math.sqrt((x1-x2)**2+(y1-y2)**2)\n",
        "print(F\"Distance between the given points is: {distance:0.3f}\")"
      ],
      "metadata": {
        "id": "Pl1Sv-xnrxnH",
        "colab": {
          "base_uri": "https://localhost:8080/"
        },
        "outputId": "a8e57c60-7bca-471c-a3b9-939c7426e02c"
      },
      "execution_count": null,
      "outputs": [
        {
          "output_type": "stream",
          "name": "stdout",
          "text": [
            "Give the x1 coordinate: 2\n",
            "Give the x2 coordinate: 2.4\n",
            "Give the y1 coordinate: 5\n",
            "Give the y2 coordinate: 7\n",
            "Distance between the given points is: 2.040\n"
          ]
        }
      ]
    },
    {
      "cell_type": "markdown",
      "source": [
        "### Q5:- Write a program to find the simple interest when the value of principle,rate of interest and time period is provided by the user.\n"
      ],
      "metadata": {
        "id": "VLrhg-FRsHjR"
      }
    },
    {
      "cell_type": "code",
      "source": [
        "# Write your code here\n",
        "principal=float(input(\"Insert the principal amount: \"))\n",
        "rate=float(input('Insert the interest rate per year in percentage: '))\n",
        "time=float(input('Insert the time period in years'))\n",
        "simple_interest=principal*(rate/100)*time\n",
        "print(\"Amount of simple interest is:\",simple_interest)"
      ],
      "metadata": {
        "id": "s40DlReZsTmY",
        "colab": {
          "base_uri": "https://localhost:8080/"
        },
        "outputId": "819a9919-4adb-4155-941f-749050df681d"
      },
      "execution_count": null,
      "outputs": [
        {
          "output_type": "stream",
          "name": "stdout",
          "text": [
            "Insert the principal amount: 1000\n",
            "Insert the interest rate per year in percentage: 10\n",
            "Insert the time period in years1\n",
            "Amount of simple interest is: 100.0\n"
          ]
        }
      ]
    },
    {
      "cell_type": "markdown",
      "source": [
        "### Q6:- Write a program that will tell the number of dogs and chicken are there when the user will provide the value of total heads and legs.\n",
        "\n",
        "For example:\n",
        "Input:\n",
        "heads -> 4\n",
        "legs -> 12\n",
        "<br>\n",
        "Output:\n",
        "dogs -> 2\n",
        "chicken -> 2\n",
        "\n",
        "\n",
        "\n"
      ],
      "metadata": {
        "id": "LMy0BTUktYKa"
      }
    },
    {
      "cell_type": "code",
      "source": [
        "# Write your code here\n",
        "n_heads=int(input('Number of heads?'))\n",
        "n_legs=int(input('Number of legs?'))\n",
        "n_dogs=(n_legs-2*n_heads)/2\n",
        "n_chikens=(n_heads-n_dogs)\n",
        "\n",
        "print(\"Dogs->\",int(n_dogs))\n",
        "print(\"Chickens->\",int(n_chikens))\n",
        "\n"
      ],
      "metadata": {
        "id": "XSBvJoA4tXaG",
        "colab": {
          "base_uri": "https://localhost:8080/"
        },
        "outputId": "141ecaeb-0ace-4e75-e2c3-308c8b6d0d40"
      },
      "execution_count": null,
      "outputs": [
        {
          "output_type": "stream",
          "name": "stdout",
          "text": [
            "Number of heads?4\n",
            "Number of legs?12\n",
            "Dogs-> 2\n",
            "Chickens-> 2\n"
          ]
        }
      ]
    },
    {
      "cell_type": "markdown",
      "source": [
        "### Q7:- Write a program to find the sum of squares of first n natural numbers where n will be provided by the user."
      ],
      "metadata": {
        "id": "gJ7C5kZYt4BP"
      }
    },
    {
      "cell_type": "code",
      "source": [
        "# Write your code here\n",
        "n=int(input('Enter the number of terms:'))\n",
        "sum=0\n",
        "for i in range(1,n+1):\n",
        "  sum+=i**2\n",
        "print('The sum is',sum)\n"
      ],
      "metadata": {
        "id": "_tHsmEHzt2nX",
        "colab": {
          "base_uri": "https://localhost:8080/"
        },
        "outputId": "98eb09c9-0a2f-45c9-cf50-9bf1d3f022c9"
      },
      "execution_count": null,
      "outputs": [
        {
          "output_type": "stream",
          "name": "stdout",
          "text": [
            "Enter the number of terms:10\n",
            "The sum is 385\n"
          ]
        }
      ]
    },
    {
      "cell_type": "markdown",
      "source": [
        "### Q8:- Given the first 2 terms of an Arithmetic Series.Find the Nth term of the series. Assume all inputs are provided by the user."
      ],
      "metadata": {
        "id": "FHrMM7g-yG1h"
      }
    },
    {
      "cell_type": "code",
      "source": [
        "# Write your code here\n",
        "a=float(input('Enter the first term:'))\n",
        "b=float(input('Enter the seconf term:'))\n",
        "n=int(input('Enter the Nth term'))\n",
        "d=b-a\n",
        "nth_term=a+(n-1)*d\n",
        "print(\"The Nth term is\",nth_term)"
      ],
      "metadata": {
        "id": "go4_kmZmyVSx",
        "colab": {
          "base_uri": "https://localhost:8080/"
        },
        "outputId": "51917fcd-a3b5-411a-da12-6d3835653e2d"
      },
      "execution_count": null,
      "outputs": [
        {
          "output_type": "stream",
          "name": "stdout",
          "text": [
            "Enter the first term:2\n",
            "Enter the seconf term:5\n",
            "Enter the Nth term4\n",
            "The Nth term is 11.0\n"
          ]
        }
      ]
    },
    {
      "cell_type": "markdown",
      "source": [
        "### Q9:- Given 2 fractions, find the sum of those 2 fractions.Take the numerator and denominator values of the fractions from the user."
      ],
      "metadata": {
        "id": "QgyRX_es1oum"
      }
    },
    {
      "cell_type": "code",
      "source": [
        "# Write your code here\n",
        "num1=int(input('Enter the numerator of the 1st fraction'))\n",
        "den1=int(input('Enter the denominator of the 1st fracton'))\n",
        "num2=int(input('Enter the numerator of the 2nd fraction'))\n",
        "den2=int(input('Enter the denominator of the 2nd fracton'))\n",
        "num=(num1*den2)+(num2*den1)\n",
        "den=den1*den2\n",
        "print('Sum of the fractions are',num/den)\n",
        "print(f'It can be also expressed as {num}/{den}')\n"
      ],
      "metadata": {
        "id": "X05xqFS1yW16",
        "colab": {
          "base_uri": "https://localhost:8080/"
        },
        "outputId": "e4556449-5c7b-4f76-f2da-f261939788ff"
      },
      "execution_count": null,
      "outputs": [
        {
          "output_type": "stream",
          "name": "stdout",
          "text": [
            "Enter the numerator of the 1st fraction1\n",
            "Enter the denominator of the 1st fracton2\n",
            "Enter the numerator of the 2nd fraction3\n",
            "Enter the denominator of the 2nd fracton4\n",
            "Sum of the fractions are 1.25\n",
            "It can be also expressed as 10/8\n"
          ]
        }
      ]
    },
    {
      "cell_type": "markdown",
      "source": [
        "### Q10:- Given the height, width and breadth of a milk tank, you have to find out how many glasses of milk can be obtained? Assume all the inputs are provided by the user.\n",
        "\n",
        "\n",
        "\n",
        "Input:<br>\n",
        "Dimensions of the milk tank<br>\n",
        "H = 20cm, L = 20cm, B = 20cm\n",
        "<br><br>\n",
        "Dimensions of the glass<br>\n",
        "h = 3cm, r = 1cm"
      ],
      "metadata": {
        "id": "eaql38ln13u7"
      }
    },
    {
      "cell_type": "code",
      "source": [
        "# Write your code here\n",
        "import math\n",
        "H=float(input('Enter the height of the milk tank in cm: '))\n",
        "L=float(input('Enter the width of the milk tank in cm: '))\n",
        "B=float(input('Enter the breadth of the milk tank in cm: '))\n",
        "\n",
        "h=float(input('Enter the height of the glass in cm: '))\n",
        "r=float(input('Enter the radius of the glass in cm: '))\n",
        "\n",
        "#calculating the volume of the tank\n",
        "v_tank=H*L*B\n",
        "#calculating the volume of the glass\n",
        "v_glass=(math.pi)*(r**2)*h\n",
        "#number of glasses\n",
        "n=round(v_tank/v_glass)\n",
        "print('Number of glasses of milk is', n)\n",
        "\n"
      ],
      "metadata": {
        "id": "FePZqno74eWv",
        "colab": {
          "base_uri": "https://localhost:8080/"
        },
        "outputId": "0b3324cc-646e-45c1-cc3c-5fcc1ccaf49f"
      },
      "execution_count": null,
      "outputs": [
        {
          "output_type": "stream",
          "name": "stdout",
          "text": [
            "Enter the height of the milk tank in cm20\n",
            "Enter the width of the milk tank in cm30\n",
            "Enter the breadth of the milk tank in cm24\n",
            "Enter the height of the glass in cm23\n",
            "Enter the radius of the glass in cm4\n",
            "Number of glasses of milk is 12\n"
          ]
        }
      ]
    }
  ]
}